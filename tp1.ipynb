{
 "cells": [
  {
   "cell_type": "markdown",
   "id": "58ba4c32",
   "metadata": {},
   "source": [
    "# Trabajo Practico 1\n",
    "## Maximización del Ratio de Sharpe con Derivadas Numéricas"
   ]
  },
  {
   "cell_type": "markdown",
   "id": "89693c82",
   "metadata": {},
   "source": [
    "El ratio de Sharpe está definido como:\n",
    "\n",
    "$$\n",
    "S(w) = \\frac{w^\\top \\mu - r_f}{\\sqrt{w^\\top \\Sigma w}}\n",
    "$$\n",
    "\n",
    "donde:\n",
    "\n",
    "- **\\( w \\)** es el vector de pesos del portafolio,  \n",
    "- **\\( \\mu \\)** es el vector de rendimientos esperados,  \n",
    "- **\\( r_f \\)** es la tasa libre de riesgo,  \n",
    "- **\\( \\Sigma \\)** es la matriz de covarianzas."
   ]
  },
  {
   "cell_type": "markdown",
   "id": "681e8107",
   "metadata": {},
   "source": [
    "# Ejercicio 1"
   ]
  },
  {
   "cell_type": "code",
   "execution_count": null,
   "metadata": {},
   "outputs": [
    {
     "ename": "AttributeError",
     "evalue": "'portfolio' object has no attribute 'weights'",
     "output_type": "error",
     "traceback": [
      "\u001b[0;31m---------------------------------------------------------------------------\u001b[0m",
      "\u001b[0;31mAttributeError\u001b[0m                            Traceback (most recent call last)",
      "Cell \u001b[0;32mIn[3], line 44\u001b[0m\n\u001b[1;32m     42\u001b[0m returns \u001b[38;5;241m=\u001b[39m [(\u001b[38;5;241m0.1\u001b[39m, \u001b[38;5;241m0.2\u001b[39m, \u001b[38;5;241m0.15\u001b[39m, \u001b[38;5;241m0.12\u001b[39m, \u001b[38;5;241m-\u001b[39m\u001b[38;5;241m0.1\u001b[39m), (\u001b[38;5;241m0.05\u001b[39m, \u001b[38;5;241m0.1\u001b[39m, \u001b[38;5;241m0.12\u001b[39m, \u001b[38;5;241m0.08\u001b[39m, \u001b[38;5;241m-\u001b[39m\u001b[38;5;241m0.05\u001b[39m), (\u001b[38;5;241m0.2\u001b[39m, \u001b[38;5;241m0.25\u001b[39m, \u001b[38;5;241m0.22\u001b[39m, \u001b[38;5;241m0.21\u001b[39m, \u001b[38;5;241m0.15\u001b[39m)]\n\u001b[1;32m     43\u001b[0m rf \u001b[38;5;241m=\u001b[39m \u001b[38;5;241m0.03\u001b[39m\n\u001b[0;32m---> 44\u001b[0m portfolio_prueba \u001b[38;5;241m=\u001b[39m portfolio(weights, returns, rf)\n\u001b[1;32m     46\u001b[0m \u001b[38;5;28mprint\u001b[39m(\u001b[38;5;124m\"\u001b[39m\u001b[38;5;124mSharpe Ratio:\u001b[39m\u001b[38;5;124m\"\u001b[39m, portfolio_prueba\u001b[38;5;241m.\u001b[39msharpe_ratio())\n\u001b[1;32m     47\u001b[0m \u001b[38;5;28mprint\u001b[39m(\u001b[38;5;124m\"\u001b[39m\u001b[38;5;124mPortfolio Return:\u001b[39m\u001b[38;5;124m\"\u001b[39m, portfolio_prueba\u001b[38;5;241m.\u001b[39mportfolio_return())\n",
      "Cell \u001b[0;32mIn[3], line 10\u001b[0m, in \u001b[0;36mportfolio.__init__\u001b[0;34m(self, weights, returns, rf)\u001b[0m\n\u001b[1;32m      8\u001b[0m \u001b[38;5;28mself\u001b[39m\u001b[38;5;241m.\u001b[39mreturns \u001b[38;5;241m=\u001b[39m np\u001b[38;5;241m.\u001b[39marray(returns)\n\u001b[1;32m      9\u001b[0m \u001b[38;5;28mself\u001b[39m\u001b[38;5;241m.\u001b[39mmus \u001b[38;5;241m=\u001b[39m \u001b[38;5;28mself\u001b[39m\u001b[38;5;241m.\u001b[39mmus()\n\u001b[0;32m---> 10\u001b[0m \u001b[38;5;28mself\u001b[39m\u001b[38;5;241m.\u001b[39mweights \u001b[38;5;241m=\u001b[39m \u001b[38;5;28mself\u001b[39m\u001b[38;5;241m.\u001b[39mcheck_weights()\n\u001b[1;32m     11\u001b[0m \u001b[38;5;28mself\u001b[39m\u001b[38;5;241m.\u001b[39mrf \u001b[38;5;241m=\u001b[39m rf\n\u001b[1;32m     12\u001b[0m \u001b[38;5;28mself\u001b[39m\u001b[38;5;241m.\u001b[39mcov_matrix \u001b[38;5;241m=\u001b[39m np\u001b[38;5;241m.\u001b[39mcov(returns)\n",
      "Cell \u001b[0;32mIn[3], line 15\u001b[0m, in \u001b[0;36mportfolio.check_weights\u001b[0;34m(self)\u001b[0m\n\u001b[1;32m     14\u001b[0m \u001b[38;5;28;01mdef\u001b[39;00m \u001b[38;5;21mcheck_weights\u001b[39m(\u001b[38;5;28mself\u001b[39m):\n\u001b[0;32m---> 15\u001b[0m     \u001b[38;5;28;01mfor\u001b[39;00m i \u001b[38;5;129;01min\u001b[39;00m \u001b[38;5;28mself\u001b[39m\u001b[38;5;241m.\u001b[39mweights:\n\u001b[1;32m     16\u001b[0m         check \u001b[38;5;241m=\u001b[39m \u001b[38;5;241m0\u001b[39m\n\u001b[1;32m     17\u001b[0m         check \u001b[38;5;241m+\u001b[39m\u001b[38;5;241m=\u001b[39m i\n",
      "\u001b[0;31mAttributeError\u001b[0m: 'portfolio' object has no attribute 'weights'"
     ]
    }
   ],
   "source": [
    "import numpy as np\n",
    "\n",
    "\n",
    "class portfolio():\n",
    "    def __init__(self, weights, returns, rf):\n",
    "        # Weighst = tupla con los w de los 3 activos\n",
    "        # Returns = Lista de 3 tuplas con los retornos de los 3 activos\n",
    "        self.returns = np.array(returns)\n",
    "        self.mus = self.mus()\n",
    "        self.weights = self.check_weights(weights)\n",
    "        self.rf = rf\n",
    "        self.cov_matrix = np.cov(returns)\n",
    "\n",
    "    def check_weights(self, weights):\n",
    "        for i in weights:\n",
    "            check = 0\n",
    "            check += i\n",
    "        if check != 1:\n",
    "            raise ValueError(\"La suma de los weights debe ser 1.\")\n",
    "\n",
    "        if len(weights)==2:\n",
    "            weights = np.append(weights, 1-weights.sum())\n",
    "        return np.array(weights)\n",
    "\n",
    "    def mus(self):\n",
    "        prom_r = []\n",
    "        for i in self.returns:\n",
    "            i = np.mean(i)\n",
    "            prom_r.append(i)\n",
    "        return np.array(prom_r)\n",
    "\n",
    "    def portfolio_return(self):\n",
    "        return self.weights.T @ self.mus()\n",
    "\n",
    "    def portfolio_volatility(self):\n",
    "        return np.sqrt(self.weights.T @ self.cov_matrix @ self.weights)\n",
    "\n",
    "    def sharpe_ratio(self):\n",
    "        return (self.portfolio_return() - self.rf) / self.portfolio_volatility()\n",
    "    \n",
    "weights = (0.2, 0.5, 0.4)\n",
    "returns = [(0.1, 0.2, 0.15, 0.12, -0.1), (0.05, 0.1, 0.12, 0.08, -0.05), (0.2, 0.25, 0.22, 0.21, 0.15)]\n",
    "rf = 0.03\n",
    "portfolio_prueba = portfolio(weights, returns, rf)\n",
    "\n",
    "print(\"Sharpe Ratio:\", portfolio_prueba.sharpe_ratio())\n",
    "print(\"Portfolio Return:\", portfolio_prueba.portfolio_return())\n"
   ]
  },
  {
   "cell_type": "markdown",
   "id": "ad4e3127",
   "metadata": {},
   "source": [
    "# Ejercicio 2"
   ]
  },
  {
   "cell_type": "code",
   "execution_count": null,
   "id": "d65566d5",
   "metadata": {},
   "outputs": [],
   "source": [
    "#Punto 2     \n",
    "def gdscent(self):\n",
    "    \"\"\"\n",
    "    Esta función recibe por parte del usuario\n",
    "    un vector de ponderadores inicial del \n",
    "    portafolio. Mediante el uso de derivadas \n",
    "    centradas y el algoritmo de descenso por\n",
    "    gradiente de -f(X) maximiza el ratio de \n",
    "    Sharpe.\n",
    "\n",
    "    Es\n",
    "\n",
    "    Notación:\n",
    "        Y = el valor de la función evaluada en un punto \n",
    "        W = el vector de weights o punto de evaluacion \n",
    "        de la funcion \n",
    "    \"\"\"\n",
    "    e =  10e-5 #Es la learning rate \n",
    "    #Elvaluo el sharpe en el punto W0\n",
    "    Y0 = - self.sharpe() #Agregamos un menos adelante, porque queremos maximizar una función con un metodo de minimizacion\n",
    "    #Calculo mi W1 retrocediendo a tasa e en contra del gradiente, la direccion de maximo crecimiento\n",
    "    self.weights -= e*self.dsharpe(self.weights)/3\n",
    "    #Evaluo el shrape en mi nuevo punto W1\n",
    "    Y1 = - self.sharpe()\n",
    "    #Si la distancia en valor absoluto entre f(W1) y f(W0) es muy chica, decimos que encontramos el vector de weights que maximiza el sharpe dada una rf\n",
    "    if abs(Y1-Y0) < 10e-6:\n",
    "        return self.weights\n",
    "    else:\n",
    "        return self.gdscent()\n",
    "    \n",
    "##### Pruebas #####        \n",
    "weights = (0.2, 0.5, 0.3)\n",
    "returns = [(0.1, 0.2, 0.15, 0.12, -0.1), (0.05, 0.1, 0.12, 0.08, -0.05), (0.2, 0.25, 0.22, 0.21, 0.15)]\n",
    "rf = 0.03\n",
    "portfolio_prueba = portfolio(weights, returns, rf)\n",
    "\n",
    "\n",
    "print(\"Weights optimos:\", portfolio_prueba.gdscent())\n",
    "print(\"Portfolio Return:\", portfolio_prueba.portfolio_return())"
   ]
  }
 ],
 "metadata": {
  "kernelspec": {
   "display_name": "base",
   "language": "python",
   "name": "python3"
  },
  "language_info": {
   "codemirror_mode": {
    "name": "ipython",
    "version": 3
   },
   "file_extension": ".py",
   "mimetype": "text/x-python",
   "name": "python",
   "nbconvert_exporter": "python",
   "pygments_lexer": "ipython3",
   "version": "3.11.7"
  }
 },
 "nbformat": 4,
 "nbformat_minor": 5
}
