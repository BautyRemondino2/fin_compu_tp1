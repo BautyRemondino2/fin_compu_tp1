{
 "cells": [
  {
   "cell_type": "markdown",
   "id": "58ba4c32",
   "metadata": {},
   "source": [
    "# Trabajo Practico 1\n",
    "## Maximización del Ratio de Sharpe con Derivadas Numéricas"
   ]
  },
  {
   "cell_type": "markdown",
   "id": "89693c82",
   "metadata": {},
   "source": [
    "El ratio de Sharpe está definido como:\n",
    "\n",
    "$$\n",
    "S(w) = \\frac{w^\\top \\mu - r_f}{\\sqrt{w^\\top \\Sigma w}}\n",
    "$$\n",
    "\n",
    "donde:\n",
    "\n",
    "- **\\( w \\)** es el vector de pesos del portafolio,  \n",
    "- **\\( \\mu \\)** es el vector de rendimientos esperados,  \n",
    "- **\\( r_f \\)** es la tasa libre de riesgo,  \n",
    "- **\\( \\Sigma \\)** es la matriz de covarianzas."
   ]
  },
  {
   "cell_type": "markdown",
   "id": "681e8107",
   "metadata": {},
   "source": [
    "# Ejercicio 1"
   ]
  },
  {
   "cell_type": "code",
   "execution_count": 9,
   "metadata": {},
   "outputs": [
    {
     "name": "stdout",
     "output_type": "stream",
     "text": [
      "Sharpe Ratio: 1.2167094660038238\n",
      "Portfolio Return: 0.11060000000000002\n"
     ]
    }
   ],
   "source": [
    "import numpy as np\n",
    "\n",
    "\n",
    "class portfolio():\n",
    "    def __init__(self, weights, returns, rf):\n",
    "        # Weighst = tupla con los w de los 3 activos\n",
    "        # Returns = Lista de 3 tuplas con los retornos de los 3 activos\n",
    "        self.returns = np.array(returns)\n",
    "        self.mus = self.mus\n",
    "        if len(weights)==2:\n",
    "            weights.np.append(1-self.weights.sum())\n",
    "        self.weights = np.array(weights)\n",
    "        self.rf = rf\n",
    "        self.cov_matrix = np.cov(returns)\n",
    "\n",
    "    def mus(self):\n",
    "        prom_r = []\n",
    "        for i in self.returns:\n",
    "            i = np.mean(i)\n",
    "            prom_r.append(i)\n",
    "        return np.array(prom_r)\n",
    "\n",
    "    def portfolio_return(self):\n",
    "        return self.weights.T @ self.mus()\n",
    "\n",
    "    def portfolio_volatility(self):\n",
    "        return np.sqrt(self.weights.T @ self.cov_matrix @ self.weights)\n",
    "\n",
    "    def sharpe_ratio(self):\n",
    "        return (self.portfolio_return() - self.rf) / self.portfolio_volatility()\n",
    "    \n",
    "weights = (0.2, 0.5, 0.3)\n",
    "returns = [(0.1, 0.2, 0.15, 0.12, -0.1), (0.05, 0.1, 0.12, 0.08, -0.05), (0.2, 0.25, 0.22, 0.21, 0.15)]\n",
    "rf = 0.03\n",
    "portfolio_prueba = portfolio(weights, returns, rf)\n",
    "\n",
    "print(\"Sharpe Ratio:\", portfolio_prueba.sharpe_ratio())\n",
    "print(\"Portfolio Return:\", portfolio_prueba.portfolio_return())\n"
   ]
  },
  {
   "cell_type": "markdown",
   "id": "ad4e3127",
   "metadata": {},
   "source": [
    "# Ejercicio 2"
   ]
  },
  {
   "cell_type": "code",
   "execution_count": null,
   "id": "d65566d5",
   "metadata": {},
   "outputs": [],
   "source": [
    "#Punto 2 \n",
    "def dsharpe(w):\n",
    "    \"\"\"\n",
    "    Esta función hace la derivada centrada del\n",
    "    ratio de Sharpe, evaluada en el punto que\n",
    "    el usuario ingrese.\n",
    "    \"\"\"\n",
    "    h = 1e-4  # El movimiento marginal de la derivada\n",
    "    # Asumiendo que 'portfolio_prueba' es el objeto de portfolio\n",
    "    return (portfolio_prueba.sharpe_ratio(w + h * np.array(w)) - portfolio_prueba.sharpe_ratio(w - h * np.array(w))) / (2 * h * np.array(w))\n",
    "\n",
    "def gdscent(w0):\n",
    "    \"\"\"\n",
    "    Esta función recibe por parte del usuario\n",
    "    un vector de ponderadores inicial del \n",
    "    portafolio. Mediante el uso de derivadas \n",
    "    centradas y el algoritmo de descenso por\n",
    "    gradiente de -f(X) maximiza el ratio de \n",
    "    Sharpe.\n",
    "\n",
    "    w = (w1, w2) --> Trabajamos en R**2, y \n",
    "    seteamos w3 = 1-w1-w2, permitiendo el\n",
    "    short selling y cumpliendo implicitamente\n",
    "    con la restricción w1 + w2 + w3 = 1.\n",
    "\n",
    "    Notación:\n",
    "        Y = el valor de la función evaluada en un punto \n",
    "        X = el vector o punto \n",
    "    \"\"\"\n",
    "    tol = e-16 #Fijarse si es 6 o 16\n",
    "    e =  e-4 #Calibrar segun convenga\n",
    "    #Mi X0 vendría a ser w\n",
    "    Y0 = - self.sharpe(w0) \n",
    "    w1 = w0 - e*self.dsharpe(w0)\n",
    "    Y1 = - self.sharpe(w1)\n",
    "    if abs(Y1-Y0) < tol:\n",
    "        return w1\n",
    "    else:\n",
    "        self.gdscent(w1)"
   ]
  }
 ],
 "metadata": {
  "kernelspec": {
   "display_name": "base",
   "language": "python",
   "name": "python3"
  },
  "language_info": {
   "codemirror_mode": {
    "name": "ipython",
    "version": 3
   },
   "file_extension": ".py",
   "mimetype": "text/x-python",
   "name": "python",
   "nbconvert_exporter": "python",
   "pygments_lexer": "ipython3",
   "version": "3.11.7"
  }
 },
 "nbformat": 4,
 "nbformat_minor": 5
}
