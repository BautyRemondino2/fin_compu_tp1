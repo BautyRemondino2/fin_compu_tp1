{
 "cells": [
  {
   "cell_type": "markdown",
   "id": "58ba4c32",
   "metadata": {},
   "source": [
    "# Trabajo Practico 1\n",
    "## Maximización del Ratio de Sharpe con Derivadas Numéricas"
   ]
  },
  {
   "cell_type": "markdown",
   "id": "89693c82",
   "metadata": {},
   "source": [
    "El ratio de Sharpe está definido como:\n",
    "\n",
    "$$\n",
    "S(w) = \\frac{w^\\top \\mu - r_f}{\\sqrt{w^\\top \\Sigma w}}\n",
    "$$\n",
    "\n",
    "donde:\n",
    "\n",
    "- **\\( w \\)** es el vector de pesos del portafolio,  \n",
    "- **\\( \\mu \\)** es el vector de rendimientos esperados,  \n",
    "- **\\( r_f \\)** es la tasa libre de riesgo,  \n",
    "- **\\( \\Sigma \\)** es la matriz de covarianzas."
   ]
  },
  {
   "cell_type": "markdown",
   "id": "681e8107",
   "metadata": {},
   "source": [
    "# Ejercicio 1"
   ]
  },
  {
   "cell_type": "code",
   "execution_count": 1,
   "id": "e47c4ac1",
   "metadata": {},
   "outputs": [
    {
     "name": "stdout",
     "output_type": "stream",
     "text": [
      "Sharpe Ratio: 1.5721160315356602\n",
      "Portfolio Return: 0.12180000000000002\n"
     ]
    }
   ],
   "source": [
    "import numpy as np\n",
    "\n",
    "\n",
    "class Portfolio():\n",
    "    def __init__(self, weights, returns, rf):\n",
    "        # Weighst = tupla con los w de los 3 activos\n",
    "        # Returns = Lista de 3 tuplas con los retornos de los 3 activos\n",
    "        self.returns = np.array(returns)\n",
    "        self.mus = self.mu()\n",
    "        self.weights = self.check_weights(weights)\n",
    "        self.rf = rf\n",
    "        self.cov_matrix = np.cov(returns)\n",
    "\n",
    "    def check_weights(self, weights):\n",
    "        check = 0\n",
    "        for i in weights:\n",
    "            check += i\n",
    "        if check != 1:\n",
    "            raise ValueError(\"La suma de los weights debe ser 1.\")\n",
    "\n",
    "        # Si vienen 2 weights, infiero el tercero\n",
    "        if len(weights)==2:\n",
    "            weights = np.append(weights, 1-weights.sum())\n",
    "        return np.array(weights)\n",
    "\n",
    "    def mu(self):\n",
    "        prom_r = []\n",
    "        for i in self.returns:\n",
    "            i = np.mean(i)\n",
    "            prom_r.append(i)\n",
    "        return np.array(prom_r)\n",
    "\n",
    "    def portfolio_return(self, weights=None):\n",
    "        if weights is None:\n",
    "            weights = self.weights\n",
    "        return weights @ self.mus\n",
    "\n",
    "    def portfolio_volatility(self, weights=None):\n",
    "        if weights is None:\n",
    "            weights = self.weights\n",
    "        return np.sqrt(weights @ self.cov_matrix @ weights)\n",
    "\n",
    "    def sharpe_ratio(self, weights=None):\n",
    "        if weights is None:\n",
    "            weights = self.weights\n",
    "        return (self.portfolio_return(weights) - self.rf) / self.portfolio_volatility(weights)\n",
    "    \n",
    "weights = (0.1, 0.5, 0.4)\n",
    "returns = [\n",
    "    (0.10, 0.20, 0.15, 0.12, -0.10),\n",
    "    (0.05, 0.10, 0.12, 0.08, -0.05),\n",
    "    (0.20, 0.25, 0.22, 0.21,  0.15),\n",
    "]\n",
    "rf = 0.03\n",
    "p = Portfolio(weights, returns, rf)\n",
    "\n",
    "print(\"Sharpe Ratio:\", p.sharpe_ratio())\n",
    "print(\"Portfolio Return:\", p.portfolio_return())\n"
   ]
  },
  {
   "cell_type": "markdown",
   "id": "ad4e3127",
   "metadata": {},
   "source": [
    "# Ejercicio 2"
   ]
  },
  {
   "cell_type": "code",
   "execution_count": 4,
   "id": "d65566d5",
   "metadata": {},
   "outputs": [
    {
     "ename": "ValueError",
     "evalue": "matmul: Input operand 0 does not have enough dimensions (has 0, gufunc core with signature (n?,k),(k,m?)->(n?,m?) requires 1)",
     "output_type": "error",
     "traceback": [
      "\u001b[0;31m---------------------------------------------------------------------------\u001b[0m",
      "\u001b[0;31mValueError\u001b[0m                                Traceback (most recent call last)",
      "Cell \u001b[0;32mIn[4], line 68\u001b[0m\n\u001b[1;32m     64\u001b[0m rf \u001b[38;5;241m=\u001b[39m \u001b[38;5;241m0.03\u001b[39m\n\u001b[1;32m     65\u001b[0m p \u001b[38;5;241m=\u001b[39m Portfolio(weights, returns, rf)\n\u001b[0;32m---> 68\u001b[0m \u001b[38;5;28mprint\u001b[39m(\u001b[38;5;124m\"\u001b[39m\u001b[38;5;124mWeights optimos:\u001b[39m\u001b[38;5;124m\"\u001b[39m, gdscent(p))\n",
      "Cell \u001b[0;32mIn[4], line 48\u001b[0m, in \u001b[0;36mgdscent\u001b[0;34m(cartera, e)\u001b[0m\n\u001b[1;32m     45\u001b[0m Y0 \u001b[38;5;241m=\u001b[39m \u001b[38;5;241m-\u001b[39m cartera\u001b[38;5;241m.\u001b[39msharpe_ratio() \n\u001b[1;32m     47\u001b[0m \u001b[38;5;66;03m# Calculo la derivada centrada en W0\u001b[39;00m\n\u001b[0;32m---> 48\u001b[0m dY \u001b[38;5;241m=\u001b[39m gradient_sharpe(cartera, w0)\n\u001b[1;32m     50\u001b[0m \u001b[38;5;66;03m# Calculo mi W1 retrocediendo a tasa e en contra del gradiente, la direccion de maximo crecimiento\u001b[39;00m\n\u001b[1;32m     51\u001b[0m w1 \u001b[38;5;241m=\u001b[39m w0 \u001b[38;5;241m-\u001b[39m e \u001b[38;5;241m*\u001b[39m (\u001b[38;5;241m-\u001b[39mY0)\u001b[38;5;241m/\u001b[39m\u001b[38;5;241m3\u001b[39m\n",
      "Cell \u001b[0;32mIn[4], line 27\u001b[0m, in \u001b[0;36mgradient_sharpe\u001b[0;34m(cartera, w, Penalty)\u001b[0m\n\u001b[1;32m     23\u001b[0m     fy \u001b[38;5;241m=\u001b[39m (cartera\u001b[38;5;241m.\u001b[39msharpe_ratio(np\u001b[38;5;241m.\u001b[39marray(w[\u001b[38;5;241m0\u001b[39m], w[\u001b[38;5;241m1\u001b[39m] \u001b[38;5;241m+\u001b[39m h)) \u001b[38;5;241m-\u001b[39m cartera\u001b[38;5;241m.\u001b[39msharpe_ratio(np\u001b[38;5;241m.\u001b[39marray(w[\u001b[38;5;241m0\u001b[39m], w[\u001b[38;5;241m1\u001b[39m] \u001b[38;5;241m-\u001b[39m h)))\u001b[38;5;241m/\u001b[39m(\u001b[38;5;241m2\u001b[39m\u001b[38;5;241m*\u001b[39mh\u001b[38;5;241m*\u001b[39mnp\u001b[38;5;241m.\u001b[39marray(w))\n\u001b[1;32m     25\u001b[0m \u001b[38;5;28;01melse\u001b[39;00m: \u001b[38;5;66;03m#Parte de derivacion del Sharpe\u001b[39;00m\n\u001b[1;32m     26\u001b[0m     \u001b[38;5;66;03m#Derivada parcial resp de w1:\u001b[39;00m\n\u001b[0;32m---> 27\u001b[0m         fx \u001b[38;5;241m=\u001b[39m (cartera\u001b[38;5;241m.\u001b[39msharpe_ratio(np\u001b[38;5;241m.\u001b[39marray(w[\u001b[38;5;241m0\u001b[39m] \u001b[38;5;241m+\u001b[39m h, w[\u001b[38;5;241m1\u001b[39m])) \u001b[38;5;241m-\u001b[39m cartera\u001b[38;5;241m.\u001b[39msharpe_ratio(np\u001b[38;5;241m.\u001b[39marray(w[\u001b[38;5;241m0\u001b[39m] \u001b[38;5;241m-\u001b[39m h, w[\u001b[38;5;241m1\u001b[39m])))\u001b[38;5;241m/\u001b[39m(\u001b[38;5;241m2\u001b[39m\u001b[38;5;241m*\u001b[39mh\u001b[38;5;241m*\u001b[39mnp\u001b[38;5;241m.\u001b[39marray(w))\n\u001b[1;32m     28\u001b[0m     \u001b[38;5;66;03m#Derivada parcial resp de w2:\u001b[39;00m\n\u001b[1;32m     29\u001b[0m         fy \u001b[38;5;241m=\u001b[39m (cartera\u001b[38;5;241m.\u001b[39msharpe_ratio(np\u001b[38;5;241m.\u001b[39marray(w[\u001b[38;5;241m0\u001b[39m], w[\u001b[38;5;241m1\u001b[39m] \u001b[38;5;241m+\u001b[39m h)) \u001b[38;5;241m-\u001b[39m cartera\u001b[38;5;241m.\u001b[39msharpe_ratio(np\u001b[38;5;241m.\u001b[39marray(w[\u001b[38;5;241m0\u001b[39m], w[\u001b[38;5;241m1\u001b[39m] \u001b[38;5;241m-\u001b[39m h)))\u001b[38;5;241m/\u001b[39m(\u001b[38;5;241m2\u001b[39m\u001b[38;5;241m*\u001b[39mh\u001b[38;5;241m*\u001b[39mnp\u001b[38;5;241m.\u001b[39marray(w))\n",
      "Cell \u001b[0;32mIn[1], line 46\u001b[0m, in \u001b[0;36mPortfolio.sharpe_ratio\u001b[0;34m(self, weights)\u001b[0m\n\u001b[1;32m     44\u001b[0m \u001b[38;5;28;01mif\u001b[39;00m weights \u001b[38;5;129;01mis\u001b[39;00m \u001b[38;5;28;01mNone\u001b[39;00m:\n\u001b[1;32m     45\u001b[0m     weights \u001b[38;5;241m=\u001b[39m \u001b[38;5;28mself\u001b[39m\u001b[38;5;241m.\u001b[39mweights\n\u001b[0;32m---> 46\u001b[0m \u001b[38;5;28;01mreturn\u001b[39;00m (\u001b[38;5;28mself\u001b[39m\u001b[38;5;241m.\u001b[39mportfolio_return(weights) \u001b[38;5;241m-\u001b[39m \u001b[38;5;28mself\u001b[39m\u001b[38;5;241m.\u001b[39mrf) \u001b[38;5;241m/\u001b[39m \u001b[38;5;28mself\u001b[39m\u001b[38;5;241m.\u001b[39mportfolio_volatility(weights)\n",
      "Cell \u001b[0;32mIn[1], line 36\u001b[0m, in \u001b[0;36mPortfolio.portfolio_return\u001b[0;34m(self, weights)\u001b[0m\n\u001b[1;32m     34\u001b[0m \u001b[38;5;28;01mif\u001b[39;00m weights \u001b[38;5;129;01mis\u001b[39;00m \u001b[38;5;28;01mNone\u001b[39;00m:\n\u001b[1;32m     35\u001b[0m     weights \u001b[38;5;241m=\u001b[39m \u001b[38;5;28mself\u001b[39m\u001b[38;5;241m.\u001b[39mweights\n\u001b[0;32m---> 36\u001b[0m \u001b[38;5;28;01mreturn\u001b[39;00m weights \u001b[38;5;241m@\u001b[39m \u001b[38;5;28mself\u001b[39m\u001b[38;5;241m.\u001b[39mmus\n",
      "\u001b[0;31mValueError\u001b[0m: matmul: Input operand 0 does not have enough dimensions (has 0, gufunc core with signature (n?,k),(k,m?)->(n?,m?) requires 1)"
     ]
    }
   ],
   "source": [
    "#Punto 2     \n",
    "def gradient_sharpe(cartera, w, Penalty = False):\n",
    "        \"\"\"\n",
    "        Esta función hace la derivada centrada del\n",
    "        ratio de Sharpe, evaluada en el punto que\n",
    "        el usuario ingrese.\n",
    "        Por default usa como funcion a derivar el \n",
    "        ratio de sharpe sin la penalidad, pero el \n",
    "        usuario puede elegir si desea derivar la \n",
    "        funcion que involucra la penalidad cuando\n",
    "        alguno de los weights son < 0.\n",
    "        \n",
    "        Returns: Gradiente\n",
    "        \"\"\"\n",
    "        h = 10e-4  # El movimiento marginal de la derivada\n",
    "        if w is None:\n",
    "            w = cartera.weights[:2:]\n",
    "       \n",
    "        if Penalty: #Parte de derivacion del Sharpe + penalidad\n",
    "        #Derivada parcial resp de w1:\n",
    "            fx = (cartera.sharpe_ratio(np.array(w[0] + h, w[1])) - cartera.sharpe_ratio(np.array(w[0] - h, w[1])))/(2*h*np.array(w))\n",
    "        #Derivada parcial resp de w2:\n",
    "            fy = (cartera.sharpe_ratio(np.array(w[0], w[1] + h)) - cartera.sharpe_ratio(np.array(w[0], w[1] - h)))/(2*h*np.array(w))\n",
    "\n",
    "        else: #Parte de derivacion del Sharpe\n",
    "            #Derivada parcial resp de w1:\n",
    "                fx = (cartera.sharpe_ratio(np.array(w[0] + h, w[1])) - cartera.sharpe_ratio(np.array(w[0] - h, w[1])))/(2*h*np.array(w))\n",
    "            #Derivada parcial resp de w2:\n",
    "                fy = (cartera.sharpe_ratio(np.array(w[0], w[1] + h)) - cartera.sharpe_ratio(np.array(w[0], w[1] - h)))/(2*h*np.array(w))\n",
    "\n",
    "        return (fx, fy) #Gradiente\n",
    "\n",
    "def gdscent(cartera, e = 10e-5):\n",
    "    \"\"\" Esta función recibe por parte del usuario un vector de ponderadores inicial del portafolio. Mediante el uso de derivadas \n",
    "    centradas y el algoritmo de descenso por gradiente de -f(X) maximiza el ratio de Sharpe. \"\"\"\n",
    "\n",
    "    # En cada iteración, se debera crear un nuevo vector de weights que se convertira otro objeto de la clase Portfolio.\n",
    "    # Los retornos y la risk free se mantienen con el mismo valor (W0).\n",
    "    w0 = cartera.weights\n",
    "    ret = cartera.returns\n",
    "    rf = cartera.rf\n",
    "\n",
    "    # Evaluo el sharpe en el punto W0\n",
    "    # Agregamos un menos adelante, porque queremos maximizar una función con un metodo de minimizacion\n",
    "    Y0 = - cartera.sharpe_ratio() \n",
    "\n",
    "    # Calculo la derivada centrada en W0\n",
    "    dY = gradient_sharpe(cartera, w0)\n",
    "\n",
    "    # Calculo mi W1 retrocediendo a tasa e en contra del gradiente, la direccion de maximo crecimiento\n",
    "    w1 = w0 - e * (-Y0)/3\n",
    "\n",
    "    # Evaluo el shrape en mi nuevo punto W1\n",
    "    Y1 = - cartera.sharpe_ratio()\n",
    "    #Si la distancia en valor absoluto entre f(W1) y f(W0) es muy chica, decimos que encontramos el vector de weights que maximiza el sharpe dada una rf\n",
    "    if abs(Y1-Y0) < 10e-6:\n",
    "        return cartera.weights\n",
    "    else:\n",
    "        return gdscent(cartera)\n",
    "\n",
    "##### Pruebas #####        \n",
    "weights = (0.2, 0.5, 0.3)\n",
    "returns = [(0.1, 0.2, 0.15, 0.12, -0.1), (0.05, 0.1, 0.12, 0.08, -0.05), (0.2, 0.25, 0.22, 0.21, 0.15)]\n",
    "rf = 0.03\n",
    "p = Portfolio(weights, returns, rf)\n",
    "\n",
    "\n",
    "print(\"Weights optimos:\", gdscent(p))"
   ]
  }
 ],
 "metadata": {
  "kernelspec": {
   "display_name": "base",
   "language": "python",
   "name": "python3"
  },
  "language_info": {
   "codemirror_mode": {
    "name": "ipython",
    "version": 3
   },
   "file_extension": ".py",
   "mimetype": "text/x-python",
   "name": "python",
   "nbconvert_exporter": "python",
   "pygments_lexer": "ipython3",
   "version": "3.11.7"
  }
 },
 "nbformat": 4,
 "nbformat_minor": 5
}
